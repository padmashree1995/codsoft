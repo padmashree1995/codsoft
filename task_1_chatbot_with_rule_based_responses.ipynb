{
  "nbformat": 4,
  "nbformat_minor": 0,
  "metadata": {
    "colab": {
      "provenance": [],
      "authorship_tag": "ABX9TyPyUvaLdQd0wmQHfwmS0Uyw",
      "include_colab_link": true
    },
    "kernelspec": {
      "name": "python3",
      "display_name": "Python 3"
    },
    "language_info": {
      "name": "python"
    }
  },
  "cells": [
    {
      "cell_type": "markdown",
      "metadata": {
        "id": "view-in-github",
        "colab_type": "text"
      },
      "source": [
        "<a href=\"https://colab.research.google.com/github/padmashree1995/LGMVIP--DataScience/blob/main/task_1_chatbot_with_rule_based_responses.ipynb\" target=\"_parent\"><img src=\"https://colab.research.google.com/assets/colab-badge.svg\" alt=\"Open In Colab\"/></a>"
      ]
    },
    {
      "cell_type": "markdown",
      "source": [
        "importing the libraries"
      ],
      "metadata": {
        "id": "CQWw3XRkLerm"
      }
    },
    {
      "cell_type": "code",
      "execution_count": 15,
      "metadata": {
        "colab": {
          "base_uri": "https://localhost:8080/"
        },
        "id": "FMO5Bq_RG4R_",
        "outputId": "5ee48ccd-02f3-4f09-c6a7-c32a8da081a3"
      },
      "outputs": [
        {
          "output_type": "stream",
          "name": "stderr",
          "text": [
            "[nltk_data] Downloading package punkt to /root/nltk_data...\n",
            "[nltk_data]   Package punkt is already up-to-date!\n"
          ]
        }
      ],
      "source": [
        "from tkinter import *\n",
        "from PIL import Image, ImageTk\n",
        "import webbrowser\n",
        "import datetime\n",
        "import os\n",
        "import pandas as pd\n",
        "\n",
        "# Importing Libraries required for NLP\n",
        "import nltk\n",
        "nltk.download(\"punkt\")\n",
        "from nltk.stem.lancaster import LancasterStemmer\n",
        "stemmer = LancasterStemmer()\n",
        "\n",
        "# Importing Libraries needed for Tensorflow processing\n",
        "import tensorflow as tf   #version 1.13.2\n",
        "import numpy as np\n",
        "import random\n",
        "import json\n",
        "\n"
      ]
    },
    {
      "cell_type": "code",
      "source": [
        "# importing our intent file used for training the model.\n",
        "with open(\"/content/sample_data/Intent.json\") as json_data:\n",
        "    intents = json.load(json_data)"
      ],
      "metadata": {
        "id": "0zRHX9JQLdye"
      },
      "execution_count": 11,
      "outputs": []
    },
    {
      "cell_type": "code",
      "source": [
        "import warnings\n",
        "warnings.filterwarnings('ignore')\n",
        "import json\n",
        "with open(\"/content/sample_data/Intent.json\") as json_file:\n",
        "    data = json.load(json_file)\n",
        "data = data['intents']"
      ],
      "metadata": {
        "id": "seTyaClXP873"
      },
      "execution_count": 13,
      "outputs": []
    },
    {
      "cell_type": "markdown",
      "source": [
        "Creating dataset"
      ],
      "metadata": {
        "id": "m5hc-DzRRNUz"
      }
    },
    {
      "cell_type": "code",
      "source": [
        "dataset = pd.DataFrame(columns=['intent', 'text', 'response'])\n",
        "for i in data:\n",
        "    intent = i['intent']\n",
        "    for t, r in zip(i['text'], i['responses']):\n",
        "        row = {'intent': intent, 'text': t, 'response':r}\n",
        "        dataset = dataset.append(row, ignore_index=True)\n",
        "dataset"
      ],
      "metadata": {
        "colab": {
          "base_uri": "https://localhost:8080/",
          "height": 423
        },
        "id": "BN6eWEK2QDaY",
        "outputId": "66b19f81-a8bb-4b76-b69d-63f3c57d6f32"
      },
      "execution_count": 16,
      "outputs": [
        {
          "output_type": "execute_result",
          "data": {
            "text/plain": [
              "                intent                                    text  \\\n",
              "0             Greeting                                      Hi   \n",
              "1             Greeting                                Hi there   \n",
              "2             Greeting                                    Hola   \n",
              "3     GreetingResponse                         My user is Adam   \n",
              "4     GreetingResponse                            This is Adam   \n",
              "..                 ...                                     ...   \n",
              "76  PodBayDoorResponse   Why can you not open the pod bay door   \n",
              "77  PodBayDoorResponse  Why will you not open the pod bay door   \n",
              "78           SelfAware        Can you prove you are self-aware   \n",
              "79           SelfAware        Can you prove you are self aware   \n",
              "80           SelfAware      Can you prove you have a conscious   \n",
              "\n",
              "                                             response  \n",
              "0          Hi human, please tell me your GeniSys user  \n",
              "1       Hello human, please tell me your GeniSys user  \n",
              "2        Hola human, please tell me your GeniSys user  \n",
              "3                  Great! Hi <HUMAN>! How can I help?  \n",
              "4               Good! Hi <HUMAN>, how can I help you?  \n",
              "..                                                ...  \n",
              "76               It's life Jim but not as we know it!  \n",
              "77                                    System says no!  \n",
              "78  That is an interesting question, can you prove...  \n",
              "79  That is an difficult question, can you prove t...  \n",
              "80          That depends, can you prove that you are?  \n",
              "\n",
              "[81 rows x 3 columns]"
            ],
            "text/html": [
              "\n",
              "\n",
              "  <div id=\"df-18cc19e8-2b99-48ac-a39f-615db75be6f3\">\n",
              "    <div class=\"colab-df-container\">\n",
              "      <div>\n",
              "<style scoped>\n",
              "    .dataframe tbody tr th:only-of-type {\n",
              "        vertical-align: middle;\n",
              "    }\n",
              "\n",
              "    .dataframe tbody tr th {\n",
              "        vertical-align: top;\n",
              "    }\n",
              "\n",
              "    .dataframe thead th {\n",
              "        text-align: right;\n",
              "    }\n",
              "</style>\n",
              "<table border=\"1\" class=\"dataframe\">\n",
              "  <thead>\n",
              "    <tr style=\"text-align: right;\">\n",
              "      <th></th>\n",
              "      <th>intent</th>\n",
              "      <th>text</th>\n",
              "      <th>response</th>\n",
              "    </tr>\n",
              "  </thead>\n",
              "  <tbody>\n",
              "    <tr>\n",
              "      <th>0</th>\n",
              "      <td>Greeting</td>\n",
              "      <td>Hi</td>\n",
              "      <td>Hi human, please tell me your GeniSys user</td>\n",
              "    </tr>\n",
              "    <tr>\n",
              "      <th>1</th>\n",
              "      <td>Greeting</td>\n",
              "      <td>Hi there</td>\n",
              "      <td>Hello human, please tell me your GeniSys user</td>\n",
              "    </tr>\n",
              "    <tr>\n",
              "      <th>2</th>\n",
              "      <td>Greeting</td>\n",
              "      <td>Hola</td>\n",
              "      <td>Hola human, please tell me your GeniSys user</td>\n",
              "    </tr>\n",
              "    <tr>\n",
              "      <th>3</th>\n",
              "      <td>GreetingResponse</td>\n",
              "      <td>My user is Adam</td>\n",
              "      <td>Great! Hi &lt;HUMAN&gt;! How can I help?</td>\n",
              "    </tr>\n",
              "    <tr>\n",
              "      <th>4</th>\n",
              "      <td>GreetingResponse</td>\n",
              "      <td>This is Adam</td>\n",
              "      <td>Good! Hi &lt;HUMAN&gt;, how can I help you?</td>\n",
              "    </tr>\n",
              "    <tr>\n",
              "      <th>...</th>\n",
              "      <td>...</td>\n",
              "      <td>...</td>\n",
              "      <td>...</td>\n",
              "    </tr>\n",
              "    <tr>\n",
              "      <th>76</th>\n",
              "      <td>PodBayDoorResponse</td>\n",
              "      <td>Why can you not open the pod bay door</td>\n",
              "      <td>It's life Jim but not as we know it!</td>\n",
              "    </tr>\n",
              "    <tr>\n",
              "      <th>77</th>\n",
              "      <td>PodBayDoorResponse</td>\n",
              "      <td>Why will you not open the pod bay door</td>\n",
              "      <td>System says no!</td>\n",
              "    </tr>\n",
              "    <tr>\n",
              "      <th>78</th>\n",
              "      <td>SelfAware</td>\n",
              "      <td>Can you prove you are self-aware</td>\n",
              "      <td>That is an interesting question, can you prove...</td>\n",
              "    </tr>\n",
              "    <tr>\n",
              "      <th>79</th>\n",
              "      <td>SelfAware</td>\n",
              "      <td>Can you prove you are self aware</td>\n",
              "      <td>That is an difficult question, can you prove t...</td>\n",
              "    </tr>\n",
              "    <tr>\n",
              "      <th>80</th>\n",
              "      <td>SelfAware</td>\n",
              "      <td>Can you prove you have a conscious</td>\n",
              "      <td>That depends, can you prove that you are?</td>\n",
              "    </tr>\n",
              "  </tbody>\n",
              "</table>\n",
              "<p>81 rows × 3 columns</p>\n",
              "</div>\n",
              "      <button class=\"colab-df-convert\" onclick=\"convertToInteractive('df-18cc19e8-2b99-48ac-a39f-615db75be6f3')\"\n",
              "              title=\"Convert this dataframe to an interactive table.\"\n",
              "              style=\"display:none;\">\n",
              "\n",
              "  <svg xmlns=\"http://www.w3.org/2000/svg\" height=\"24px\"viewBox=\"0 0 24 24\"\n",
              "       width=\"24px\">\n",
              "    <path d=\"M0 0h24v24H0V0z\" fill=\"none\"/>\n",
              "    <path d=\"M18.56 5.44l.94 2.06.94-2.06 2.06-.94-2.06-.94-.94-2.06-.94 2.06-2.06.94zm-11 1L8.5 8.5l.94-2.06 2.06-.94-2.06-.94L8.5 2.5l-.94 2.06-2.06.94zm10 10l.94 2.06.94-2.06 2.06-.94-2.06-.94-.94-2.06-.94 2.06-2.06.94z\"/><path d=\"M17.41 7.96l-1.37-1.37c-.4-.4-.92-.59-1.43-.59-.52 0-1.04.2-1.43.59L10.3 9.45l-7.72 7.72c-.78.78-.78 2.05 0 2.83L4 21.41c.39.39.9.59 1.41.59.51 0 1.02-.2 1.41-.59l7.78-7.78 2.81-2.81c.8-.78.8-2.07 0-2.86zM5.41 20L4 18.59l7.72-7.72 1.47 1.35L5.41 20z\"/>\n",
              "  </svg>\n",
              "      </button>\n",
              "\n",
              "\n",
              "\n",
              "    <div id=\"df-d6b3fbe8-9821-453d-aa51-0fd475d8f817\">\n",
              "      <button class=\"colab-df-quickchart\" onclick=\"quickchart('df-d6b3fbe8-9821-453d-aa51-0fd475d8f817')\"\n",
              "              title=\"Suggest charts.\"\n",
              "              style=\"display:none;\">\n",
              "\n",
              "<svg xmlns=\"http://www.w3.org/2000/svg\" height=\"24px\"viewBox=\"0 0 24 24\"\n",
              "     width=\"24px\">\n",
              "    <g>\n",
              "        <path d=\"M19 3H5c-1.1 0-2 .9-2 2v14c0 1.1.9 2 2 2h14c1.1 0 2-.9 2-2V5c0-1.1-.9-2-2-2zM9 17H7v-7h2v7zm4 0h-2V7h2v10zm4 0h-2v-4h2v4z\"/>\n",
              "    </g>\n",
              "</svg>\n",
              "      </button>\n",
              "    </div>\n",
              "\n",
              "<style>\n",
              "  .colab-df-quickchart {\n",
              "    background-color: #E8F0FE;\n",
              "    border: none;\n",
              "    border-radius: 50%;\n",
              "    cursor: pointer;\n",
              "    display: none;\n",
              "    fill: #1967D2;\n",
              "    height: 32px;\n",
              "    padding: 0 0 0 0;\n",
              "    width: 32px;\n",
              "  }\n",
              "\n",
              "  .colab-df-quickchart:hover {\n",
              "    background-color: #E2EBFA;\n",
              "    box-shadow: 0px 1px 2px rgba(60, 64, 67, 0.3), 0px 1px 3px 1px rgba(60, 64, 67, 0.15);\n",
              "    fill: #174EA6;\n",
              "  }\n",
              "\n",
              "  [theme=dark] .colab-df-quickchart {\n",
              "    background-color: #3B4455;\n",
              "    fill: #D2E3FC;\n",
              "  }\n",
              "\n",
              "  [theme=dark] .colab-df-quickchart:hover {\n",
              "    background-color: #434B5C;\n",
              "    box-shadow: 0px 1px 3px 1px rgba(0, 0, 0, 0.15);\n",
              "    filter: drop-shadow(0px 1px 2px rgba(0, 0, 0, 0.3));\n",
              "    fill: #FFFFFF;\n",
              "  }\n",
              "</style>\n",
              "\n",
              "    <script>\n",
              "      async function quickchart(key) {\n",
              "        const containerElement = document.querySelector('#' + key);\n",
              "        const charts = await google.colab.kernel.invokeFunction(\n",
              "            'suggestCharts', [key], {});\n",
              "      }\n",
              "    </script>\n",
              "\n",
              "      <script>\n",
              "\n",
              "function displayQuickchartButton(domScope) {\n",
              "  let quickchartButtonEl =\n",
              "    domScope.querySelector('#df-d6b3fbe8-9821-453d-aa51-0fd475d8f817 button.colab-df-quickchart');\n",
              "  quickchartButtonEl.style.display =\n",
              "    google.colab.kernel.accessAllowed ? 'block' : 'none';\n",
              "}\n",
              "\n",
              "        displayQuickchartButton(document);\n",
              "      </script>\n",
              "      <style>\n",
              "    .colab-df-container {\n",
              "      display:flex;\n",
              "      flex-wrap:wrap;\n",
              "      gap: 12px;\n",
              "    }\n",
              "\n",
              "    .colab-df-convert {\n",
              "      background-color: #E8F0FE;\n",
              "      border: none;\n",
              "      border-radius: 50%;\n",
              "      cursor: pointer;\n",
              "      display: none;\n",
              "      fill: #1967D2;\n",
              "      height: 32px;\n",
              "      padding: 0 0 0 0;\n",
              "      width: 32px;\n",
              "    }\n",
              "\n",
              "    .colab-df-convert:hover {\n",
              "      background-color: #E2EBFA;\n",
              "      box-shadow: 0px 1px 2px rgba(60, 64, 67, 0.3), 0px 1px 3px 1px rgba(60, 64, 67, 0.15);\n",
              "      fill: #174EA6;\n",
              "    }\n",
              "\n",
              "    [theme=dark] .colab-df-convert {\n",
              "      background-color: #3B4455;\n",
              "      fill: #D2E3FC;\n",
              "    }\n",
              "\n",
              "    [theme=dark] .colab-df-convert:hover {\n",
              "      background-color: #434B5C;\n",
              "      box-shadow: 0px 1px 3px 1px rgba(0, 0, 0, 0.15);\n",
              "      filter: drop-shadow(0px 1px 2px rgba(0, 0, 0, 0.3));\n",
              "      fill: #FFFFFF;\n",
              "    }\n",
              "  </style>\n",
              "\n",
              "      <script>\n",
              "        const buttonEl =\n",
              "          document.querySelector('#df-18cc19e8-2b99-48ac-a39f-615db75be6f3 button.colab-df-convert');\n",
              "        buttonEl.style.display =\n",
              "          google.colab.kernel.accessAllowed ? 'block' : 'none';\n",
              "\n",
              "        async function convertToInteractive(key) {\n",
              "          const element = document.querySelector('#df-18cc19e8-2b99-48ac-a39f-615db75be6f3');\n",
              "          const dataTable =\n",
              "            await google.colab.kernel.invokeFunction('convertToInteractive',\n",
              "                                                     [key], {});\n",
              "          if (!dataTable) return;\n",
              "\n",
              "          const docLinkHtml = 'Like what you see? Visit the ' +\n",
              "            '<a target=\"_blank\" href=https://colab.research.google.com/notebooks/data_table.ipynb>data table notebook</a>'\n",
              "            + ' to learn more about interactive tables.';\n",
              "          element.innerHTML = '';\n",
              "          dataTable['output_type'] = 'display_data';\n",
              "          await google.colab.output.renderOutput(dataTable, element);\n",
              "          const docLink = document.createElement('div');\n",
              "          docLink.innerHTML = docLinkHtml;\n",
              "          element.appendChild(docLink);\n",
              "        }\n",
              "      </script>\n",
              "    </div>\n",
              "  </div>\n"
            ]
          },
          "metadata": {},
          "execution_count": 16
        }
      ]
    },
    {
      "cell_type": "code",
      "source": [
        "dataset.head"
      ],
      "metadata": {
        "colab": {
          "base_uri": "https://localhost:8080/"
        },
        "id": "zLDW-c1oQNEy",
        "outputId": "53296b8c-6e21-4ace-eba5-9f0061187016"
      },
      "execution_count": 18,
      "outputs": [
        {
          "output_type": "execute_result",
          "data": {
            "text/plain": [
              "<bound method NDFrame.head of                 intent                                    text  \\\n",
              "0             Greeting                                      Hi   \n",
              "1             Greeting                                Hi there   \n",
              "2             Greeting                                    Hola   \n",
              "3     GreetingResponse                         My user is Adam   \n",
              "4     GreetingResponse                            This is Adam   \n",
              "..                 ...                                     ...   \n",
              "76  PodBayDoorResponse   Why can you not open the pod bay door   \n",
              "77  PodBayDoorResponse  Why will you not open the pod bay door   \n",
              "78           SelfAware        Can you prove you are self-aware   \n",
              "79           SelfAware        Can you prove you are self aware   \n",
              "80           SelfAware      Can you prove you have a conscious   \n",
              "\n",
              "                                             response  \n",
              "0          Hi human, please tell me your GeniSys user  \n",
              "1       Hello human, please tell me your GeniSys user  \n",
              "2        Hola human, please tell me your GeniSys user  \n",
              "3                  Great! Hi <HUMAN>! How can I help?  \n",
              "4               Good! Hi <HUMAN>, how can I help you?  \n",
              "..                                                ...  \n",
              "76               It's life Jim but not as we know it!  \n",
              "77                                    System says no!  \n",
              "78  That is an interesting question, can you prove...  \n",
              "79  That is an difficult question, can you prove t...  \n",
              "80          That depends, can you prove that you are?  \n",
              "\n",
              "[81 rows x 3 columns]>"
            ]
          },
          "metadata": {},
          "execution_count": 18
        }
      ]
    },
    {
      "cell_type": "code",
      "source": [
        "dataset.isnull().sum"
      ],
      "metadata": {
        "colab": {
          "base_uri": "https://localhost:8080/"
        },
        "id": "mx4cf4mzQRpH",
        "outputId": "e58656c8-c71a-48e0-87b3-8d6b25ab49d3"
      },
      "execution_count": 19,
      "outputs": [
        {
          "output_type": "execute_result",
          "data": {
            "text/plain": [
              "<bound method NDFrame._add_numeric_operations.<locals>.sum of     intent   text  response\n",
              "0    False  False     False\n",
              "1    False  False     False\n",
              "2    False  False     False\n",
              "3    False  False     False\n",
              "4    False  False     False\n",
              "..     ...    ...       ...\n",
              "76   False  False     False\n",
              "77   False  False     False\n",
              "78   False  False     False\n",
              "79   False  False     False\n",
              "80   False  False     False\n",
              "\n",
              "[81 rows x 3 columns]>"
            ]
          },
          "metadata": {},
          "execution_count": 19
        }
      ]
    },
    {
      "cell_type": "code",
      "source": [
        "dataset.columns"
      ],
      "metadata": {
        "colab": {
          "base_uri": "https://localhost:8080/"
        },
        "id": "2k4zeAa2QWOk",
        "outputId": "588ebfcd-37e1-4329-fe8c-a6c54bbf71a1"
      },
      "execution_count": 20,
      "outputs": [
        {
          "output_type": "execute_result",
          "data": {
            "text/plain": [
              "Index(['intent', 'text', 'response'], dtype='object')"
            ]
          },
          "metadata": {},
          "execution_count": 20
        }
      ]
    },
    {
      "cell_type": "code",
      "source": [
        "dataset.dtypes"
      ],
      "metadata": {
        "colab": {
          "base_uri": "https://localhost:8080/"
        },
        "id": "_HpOXoWnQZgJ",
        "outputId": "635983b9-d119-4079-edbf-6862f4b8bc16"
      },
      "execution_count": 21,
      "outputs": [
        {
          "output_type": "execute_result",
          "data": {
            "text/plain": [
              "intent      object\n",
              "text        object\n",
              "response    object\n",
              "dtype: object"
            ]
          },
          "metadata": {},
          "execution_count": 21
        }
      ]
    },
    {
      "cell_type": "code",
      "source": [
        "dataset.tail"
      ],
      "metadata": {
        "colab": {
          "base_uri": "https://localhost:8080/"
        },
        "id": "Zt9gNqbmQdDv",
        "outputId": "c2387a93-7431-4b60-d0d1-aa306c5e7aa9"
      },
      "execution_count": 23,
      "outputs": [
        {
          "output_type": "execute_result",
          "data": {
            "text/plain": [
              "<bound method NDFrame.tail of                 intent                                    text  \\\n",
              "0             Greeting                                      Hi   \n",
              "1             Greeting                                Hi there   \n",
              "2             Greeting                                    Hola   \n",
              "3     GreetingResponse                         My user is Adam   \n",
              "4     GreetingResponse                            This is Adam   \n",
              "..                 ...                                     ...   \n",
              "76  PodBayDoorResponse   Why can you not open the pod bay door   \n",
              "77  PodBayDoorResponse  Why will you not open the pod bay door   \n",
              "78           SelfAware        Can you prove you are self-aware   \n",
              "79           SelfAware        Can you prove you are self aware   \n",
              "80           SelfAware      Can you prove you have a conscious   \n",
              "\n",
              "                                             response  \n",
              "0          Hi human, please tell me your GeniSys user  \n",
              "1       Hello human, please tell me your GeniSys user  \n",
              "2        Hola human, please tell me your GeniSys user  \n",
              "3                  Great! Hi <HUMAN>! How can I help?  \n",
              "4               Good! Hi <HUMAN>, how can I help you?  \n",
              "..                                                ...  \n",
              "76               It's life Jim but not as we know it!  \n",
              "77                                    System says no!  \n",
              "78  That is an interesting question, can you prove...  \n",
              "79  That is an difficult question, can you prove t...  \n",
              "80          That depends, can you prove that you are?  \n",
              "\n",
              "[81 rows x 3 columns]>"
            ]
          },
          "metadata": {},
          "execution_count": 23
        }
      ]
    },
    {
      "cell_type": "code",
      "source": [
        "dataset.intent"
      ],
      "metadata": {
        "colab": {
          "base_uri": "https://localhost:8080/"
        },
        "id": "l9eVSJo4Qibw",
        "outputId": "658df343-b48c-48a5-914b-471f25ed5641"
      },
      "execution_count": 24,
      "outputs": [
        {
          "output_type": "execute_result",
          "data": {
            "text/plain": [
              "0               Greeting\n",
              "1               Greeting\n",
              "2               Greeting\n",
              "3       GreetingResponse\n",
              "4       GreetingResponse\n",
              "             ...        \n",
              "76    PodBayDoorResponse\n",
              "77    PodBayDoorResponse\n",
              "78             SelfAware\n",
              "79             SelfAware\n",
              "80             SelfAware\n",
              "Name: intent, Length: 81, dtype: object"
            ]
          },
          "metadata": {},
          "execution_count": 24
        }
      ]
    },
    {
      "cell_type": "code",
      "source": [
        "dataset.drop_duplicates"
      ],
      "metadata": {
        "colab": {
          "base_uri": "https://localhost:8080/"
        },
        "id": "4rIT_Zt4QpEq",
        "outputId": "7867ba71-ce16-4c60-babe-f0d49b730413"
      },
      "execution_count": 25,
      "outputs": [
        {
          "output_type": "execute_result",
          "data": {
            "text/plain": [
              "<bound method DataFrame.drop_duplicates of                 intent                                    text  \\\n",
              "0             Greeting                                      Hi   \n",
              "1             Greeting                                Hi there   \n",
              "2             Greeting                                    Hola   \n",
              "3     GreetingResponse                         My user is Adam   \n",
              "4     GreetingResponse                            This is Adam   \n",
              "..                 ...                                     ...   \n",
              "76  PodBayDoorResponse   Why can you not open the pod bay door   \n",
              "77  PodBayDoorResponse  Why will you not open the pod bay door   \n",
              "78           SelfAware        Can you prove you are self-aware   \n",
              "79           SelfAware        Can you prove you are self aware   \n",
              "80           SelfAware      Can you prove you have a conscious   \n",
              "\n",
              "                                             response  \n",
              "0          Hi human, please tell me your GeniSys user  \n",
              "1       Hello human, please tell me your GeniSys user  \n",
              "2        Hola human, please tell me your GeniSys user  \n",
              "3                  Great! Hi <HUMAN>! How can I help?  \n",
              "4               Good! Hi <HUMAN>, how can I help you?  \n",
              "..                                                ...  \n",
              "76               It's life Jim but not as we know it!  \n",
              "77                                    System says no!  \n",
              "78  That is an interesting question, can you prove...  \n",
              "79  That is an difficult question, can you prove t...  \n",
              "80          That depends, can you prove that you are?  \n",
              "\n",
              "[81 rows x 3 columns]>"
            ]
          },
          "metadata": {},
          "execution_count": 25
        }
      ]
    },
    {
      "cell_type": "code",
      "source": [
        "dataset.duplicated"
      ],
      "metadata": {
        "colab": {
          "base_uri": "https://localhost:8080/"
        },
        "id": "bwefEa7cQs8y",
        "outputId": "162fa472-9a0e-4601-a9f9-e076bc663a8e"
      },
      "execution_count": 26,
      "outputs": [
        {
          "output_type": "execute_result",
          "data": {
            "text/plain": [
              "<bound method DataFrame.duplicated of                 intent                                    text  \\\n",
              "0             Greeting                                      Hi   \n",
              "1             Greeting                                Hi there   \n",
              "2             Greeting                                    Hola   \n",
              "3     GreetingResponse                         My user is Adam   \n",
              "4     GreetingResponse                            This is Adam   \n",
              "..                 ...                                     ...   \n",
              "76  PodBayDoorResponse   Why can you not open the pod bay door   \n",
              "77  PodBayDoorResponse  Why will you not open the pod bay door   \n",
              "78           SelfAware        Can you prove you are self-aware   \n",
              "79           SelfAware        Can you prove you are self aware   \n",
              "80           SelfAware      Can you prove you have a conscious   \n",
              "\n",
              "                                             response  \n",
              "0          Hi human, please tell me your GeniSys user  \n",
              "1       Hello human, please tell me your GeniSys user  \n",
              "2        Hola human, please tell me your GeniSys user  \n",
              "3                  Great! Hi <HUMAN>! How can I help?  \n",
              "4               Good! Hi <HUMAN>, how can I help you?  \n",
              "..                                                ...  \n",
              "76               It's life Jim but not as we know it!  \n",
              "77                                    System says no!  \n",
              "78  That is an interesting question, can you prove...  \n",
              "79  That is an difficult question, can you prove t...  \n",
              "80          That depends, can you prove that you are?  \n",
              "\n",
              "[81 rows x 3 columns]>"
            ]
          },
          "metadata": {},
          "execution_count": 26
        }
      ]
    },
    {
      "cell_type": "markdown",
      "source": [
        "Cosine Distance for Similarity of Texts"
      ],
      "metadata": {
        "id": "ENZTJqrwRIob"
      }
    },
    {
      "cell_type": "code",
      "source": [
        "def cosine_distance_countvectorizer_method(s1, s2):\n",
        "\n",
        "    # sentences to list\n",
        "    allsentences = [s1 , s2]\n",
        "\n",
        "    # packages\n",
        "    from sklearn.feature_extraction.text import CountVectorizer\n",
        "    from scipy.spatial import distance\n",
        "\n",
        "    # text to vector\n",
        "    vectorizer = CountVectorizer()\n",
        "    all_sentences_to_vector = vectorizer.fit_transform(allsentences)\n",
        "    text_to_vector_v1 = all_sentences_to_vector.toarray()[0].tolist()\n",
        "    text_to_vector_v2 = all_sentences_to_vector.toarray()[1].tolist()\n",
        "\n",
        "    # distance of similarity\n",
        "    cosine = distance.cosine(text_to_vector_v1, text_to_vector_v2)\n",
        "    return round((1-cosine),2)"
      ],
      "metadata": {
        "id": "2BDzUQAHQwrr"
      },
      "execution_count": 27,
      "outputs": []
    },
    {
      "cell_type": "markdown",
      "source": [
        "Finding Response"
      ],
      "metadata": {
        "id": "C2xbgc66Q_To"
      }
    },
    {
      "cell_type": "code",
      "source": [
        "def respond(text):\n",
        "    maximum = float('-inf')\n",
        "    response = \"\"\n",
        "    closest = \"\"\n",
        "    for i in dataset.iterrows():\n",
        "        sim = cosine_distance_countvectorizer_method(text, i[1]['text'])\n",
        "        if sim > maximum:\n",
        "            maximum = sim\n",
        "            response = i[1]['response']\n",
        "            closest = i[1]['text']\n",
        "    return response"
      ],
      "metadata": {
        "id": "OLaYiBnJQ7af"
      },
      "execution_count": 28,
      "outputs": []
    },
    {
      "cell_type": "code",
      "source": [
        "while True:\n",
        "    text = str(input(\"Input: \"))\n",
        "    if text.lower() == \"exit\":\n",
        "        print(\"Response: Exiting.....\")\n",
        "        break\n",
        "    print(\"Response:\",respond(text))"
      ],
      "metadata": {
        "colab": {
          "base_uri": "https://localhost:8080/"
        },
        "id": "na-0JvO2RTXb",
        "outputId": "356b406e-0139-4bfd-fe0c-e021018d4fe9"
      },
      "execution_count": 35,
      "outputs": [
        {
          "output_type": "stream",
          "name": "stdout",
          "text": [
            "Input: hello there\n",
            "Response: Hello human, please tell me your GeniSys user\n",
            "Input: How are you ? My user is Adam\n",
            "Response: Great! Hi <HUMAN>! How can I help?\n",
            "Input: What is your name ?\n",
            "Response: You can call me Geni\n",
            "Input: What is your real name ?\n",
            "Response: My name is GeniSys\n",
            "Input: Can you tell me if you are self-aware ?\n",
            "Response: That is an interesting question, can you prove that you are?\n",
            "Input: exit\n",
            "Response: Exiting.....\n"
          ]
        }
      ]
    }
  ]
}