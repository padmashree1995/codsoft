{
  "nbformat": 4,
  "nbformat_minor": 0,
  "metadata": {
    "colab": {
      "provenance": [],
      "authorship_tag": "ABX9TyPcEprGeVfKLPLZerSLYOjM",
      "include_colab_link": true
    },
    "kernelspec": {
      "name": "python3",
      "display_name": "Python 3"
    },
    "language_info": {
      "name": "python"
    }
  },
  "cells": [
    {
      "cell_type": "markdown",
      "metadata": {
        "id": "view-in-github",
        "colab_type": "text"
      },
      "source": [
        "<a href=\"https://colab.research.google.com/github/padmashree1995/codsoft/blob/main/task2_tic_tac_toe_AI_.ipynb\" target=\"_parent\"><img src=\"https://colab.research.google.com/assets/colab-badge.svg\" alt=\"Open In Colab\"/></a>"
      ]
    },
    {
      "cell_type": "markdown",
      "source": [
        "importing the libraries"
      ],
      "metadata": {
        "id": "fZq4ZJzBe-I5"
      }
    },
    {
      "cell_type": "code",
      "execution_count": 3,
      "metadata": {
        "id": "Y_0YYFlke8XS"
      },
      "outputs": [],
      "source": [
        "from ipywidgets import widgets, HBox, VBox, Layout\n",
        "from IPython.display import display\n",
        "from functools import partial\n",
        "import numpy as np\n",
        "\n"
      ]
    },
    {
      "cell_type": "code",
      "source": [
        "from IPython.display import clear_output\n",
        "import random\n",
        "\n",
        "# Global variables\n",
        "theBoard = [' '] * 10   # a list of empty spaces\n",
        "available = [str(num) for num in range(0,10)] # a List Comprehension\n",
        "players = [0,'X','O']   # note that players[1] == 'X' and players[-1] == 'O'\n",
        "\n",
        "\n",
        "def display_board(a,b):\n",
        "    print('Available   TIC-TAC-TOE\\n'+\n",
        "           '  moves\\n\\n  '+\n",
        "          a[7]+'|'+a[8]+'|'+a[9]+'        '+b[7]+'|'+b[8]+'|'+b[9]+'\\n  '+\n",
        "          '-----        -----\\n  '+\n",
        "          a[4]+'|'+a[5]+'|'+a[6]+'        '+b[4]+'|'+b[5]+'|'+b[6]+'\\n  '+\n",
        "          '-----        -----\\n  '+\n",
        "          a[1]+'|'+a[2]+'|'+a[3]+'        '+b[1]+'|'+b[2]+'|'+b[3]+'\\n')\n",
        "display_board(available,theBoard)"
      ],
      "metadata": {
        "colab": {
          "base_uri": "https://localhost:8080/"
        },
        "id": "rGAXIhSffbG2",
        "outputId": "346f8389-e02d-417a-d401-9f5bef7c9947"
      },
      "execution_count": 4,
      "outputs": [
        {
          "output_type": "stream",
          "name": "stdout",
          "text": [
            "Available   TIC-TAC-TOE\n",
            "  moves\n",
            "\n",
            "  7|8|9         | | \n",
            "  -----        -----\n",
            "  4|5|6         | | \n",
            "  -----        -----\n",
            "  1|2|3         | | \n",
            "\n"
          ]
        }
      ]
    },
    {
      "cell_type": "code",
      "source": [
        "def display_board(a,b):\n",
        "    print(f'Available   TIC-TAC-TOE\\n  moves\\n\\n  {a[7]}|{a[8]}|{a[9]}        {b[7]}|{b[8]}|{b[9]}\\n  -----        -----\\n  {a[4]}|{a[5]}|{a[6]}        {b[4]}|{b[5]}|{b[6]}\\n  -----        -----\\n  {a[1]}|{a[2]}|{a[3]}        {b[1]}|{b[2]}|{b[3]}\\n')\n",
        "display_board(available,theBoard)"
      ],
      "metadata": {
        "colab": {
          "base_uri": "https://localhost:8080/"
        },
        "id": "iYRTQnLDfnHD",
        "outputId": "9e68139f-12d0-4fc7-c195-3f6d0109a66a"
      },
      "execution_count": 6,
      "outputs": [
        {
          "output_type": "stream",
          "name": "stdout",
          "text": [
            "Available   TIC-TAC-TOE\n",
            "  moves\n",
            "\n",
            "  7|8|9         | | \n",
            "  -----        -----\n",
            "  4|5|6         | | \n",
            "  -----        -----\n",
            "  1|2|3         | | \n",
            "\n"
          ]
        }
      ]
    },
    {
      "cell_type": "code",
      "source": [
        "def place_marker(avail,board,marker,position):\n",
        "    board[position] = marker\n",
        "    avail[position] = ' '\n",
        "\n",
        "\n",
        "def win_check(board,mark):\n",
        "\n",
        "    return ((board[7] ==  board[8] ==  board[9] == mark) or # across the top\n",
        "    (board[4] ==  board[5] ==  board[6] == mark) or # across the middle\n",
        "    (board[1] ==  board[2] ==  board[3] == mark) or # across the bottom\n",
        "    (board[7] ==  board[4] ==  board[1] == mark) or # down the middle\n",
        "    (board[8] ==  board[5] ==  board[2] == mark) or # down the middle\n",
        "    (board[9] ==  board[6] ==  board[3] == mark) or # down the right side\n",
        "    (board[7] ==  board[5] ==  board[3] == mark) or # diagonal\n",
        "    (board[9] ==  board[5] ==  board[1] == mark)) # diagonal\n",
        "\n",
        "def random_player():\n",
        "    return random.choice((-1, 1))\n",
        "\n",
        "def space_check(board,position):\n",
        "    return board[position] == ' '\n",
        "\n",
        "def full_board_check(board):\n",
        "    return ' ' not in board[1:]\n",
        "\n",
        "def player_choice(board,player):\n",
        "    position = 0\n",
        "\n",
        "    while position not in [1,2,3,4,5,6,7,8,9] or not space_check(board, position):\n",
        "        try:\n",
        "            position = int(input('Player %s, choose your next position: (1-9) '%(player)))\n",
        "        except:\n",
        "            print(\"I'm sorry, please try again.\")\n",
        "\n",
        "    return position"
      ],
      "metadata": {
        "id": "SxLdWhe0fshD"
      },
      "execution_count": 7,
      "outputs": []
    },
    {
      "cell_type": "code",
      "source": [
        "def replay():\n",
        "\n",
        "    return input('Do you want to play again? Enter Yes or No: ').lower().startswith('y')\n",
        "\n",
        "while True:\n",
        "    clear_output()\n",
        "    print('Welcome to Tic Tac Toe!')\n",
        "\n",
        "    toggle = random_player()\n",
        "    player = players[toggle]\n",
        "    print('For this round, Player %s will go first!' %(player))\n",
        "\n",
        "    game_on = True\n",
        "    input('Hit Enter to continue')\n",
        "    while game_on:\n",
        "        display_board(available,theBoard)\n",
        "        position = player_choice(theBoard,player)\n",
        "        place_marker(available,theBoard,player,position)\n",
        "\n",
        "        if win_check(theBoard, player):\n",
        "            display_board(available,theBoard)\n",
        "            print('Congratulations! Player '+player+' wins!')\n",
        "            game_on = False\n",
        "        else:\n",
        "            if full_board_check(theBoard):\n",
        "                display_board(available,theBoard)\n",
        "                print('The game is a draw!')\n",
        "                break\n",
        "            else:\n",
        "                toggle *= -1\n",
        "                player = players[toggle]\n",
        "                clear_output()\n",
        "\n",
        "    # reset the board and available moves list\n",
        "    theBoard = [' '] * 10\n",
        "    available = [str(num) for num in range(0,10)]\n",
        "\n",
        "    if not replay():\n",
        "        break\n"
      ],
      "metadata": {
        "colab": {
          "base_uri": "https://localhost:8080/"
        },
        "id": "TkqUyAZifw8W",
        "outputId": "28c392a4-3cc6-4aa9-93f1-f547084405cc"
      },
      "execution_count": 9,
      "outputs": [
        {
          "name": "stdout",
          "output_type": "stream",
          "text": [
            "Available   TIC-TAC-TOE\n",
            "  moves\n",
            "\n",
            "   |8|         O| |O\n",
            "  -----        -----\n",
            "   | |6        X|O| \n",
            "  -----        -----\n",
            "  1| |          |X|X\n",
            "\n",
            "Player O, choose your next position: (1-9) 1\n",
            "Available   TIC-TAC-TOE\n",
            "  moves\n",
            "\n",
            "   |8|         O| |O\n",
            "  -----        -----\n",
            "   | |6        X|O| \n",
            "  -----        -----\n",
            "   | |         O|X|X\n",
            "\n",
            "Congratulations! Player O wins!\n",
            "Do you want to play again? Enter Yes or No: no\n"
          ]
        }
      ]
    }
  ]
}